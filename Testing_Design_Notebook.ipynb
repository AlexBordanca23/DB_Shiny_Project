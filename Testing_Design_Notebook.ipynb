{
 "cells": [
  {
   "cell_type": "code",
   "execution_count": 66,
   "id": "a81b8183",
   "metadata": {},
   "outputs": [],
   "source": [
    "import pandas as pd\n",
    "import sqlite3"
   ]
  },
  {
   "cell_type": "markdown",
   "id": "72dc0053",
   "metadata": {},
   "source": [
    "**Read Data and Clean**"
   ]
  },
  {
   "cell_type": "code",
   "execution_count": 96,
   "id": "d4cef078",
   "metadata": {},
   "outputs": [],
   "source": [
    "doctors = pd.read_csv('doctors table.csv')\n",
    "patient_contact = pd.read_csv('patient contact table.csv',)\n",
    "patient_doctors = pd.read_csv('patient doctors table.csv',)\n",
    "patient_finance = pd.read_csv('patient finance table.csv',)\n",
    "patient_health = pd.read_csv('patient health table.csv',)\n",
    "patient_vitals = pd.read_csv('patient vitals table.csv',)\n",
    "patient_id = pd.read_csv('patient ID table.csv',)"
   ]
  },
  {
   "cell_type": "code",
   "execution_count": 68,
   "id": "8441c57e",
   "metadata": {},
   "outputs": [],
   "source": [
    "patient_health.replace({0 : False, 1 : True})\n",
    "patient_health = patient_health.astype(bool)"
   ]
  },
  {
   "cell_type": "code",
   "execution_count": 69,
   "id": "c193094f",
   "metadata": {},
   "outputs": [
    {
     "data": {
      "text/html": [
       "<div>\n",
       "<style scoped>\n",
       "    .dataframe tbody tr th:only-of-type {\n",
       "        vertical-align: middle;\n",
       "    }\n",
       "\n",
       "    .dataframe tbody tr th {\n",
       "        vertical-align: top;\n",
       "    }\n",
       "\n",
       "    .dataframe thead th {\n",
       "        text-align: right;\n",
       "    }\n",
       "</style>\n",
       "<table border=\"1\" class=\"dataframe\">\n",
       "  <thead>\n",
       "    <tr style=\"text-align: right;\">\n",
       "      <th></th>\n",
       "      <th>Firstname</th>\n",
       "      <th>Lastname</th>\n",
       "    </tr>\n",
       "    <tr>\n",
       "      <th>Doctor_ID</th>\n",
       "      <th></th>\n",
       "      <th></th>\n",
       "    </tr>\n",
       "  </thead>\n",
       "  <tbody>\n",
       "    <tr>\n",
       "      <th>1</th>\n",
       "      <td>Michael</td>\n",
       "      <td>Smith</td>\n",
       "    </tr>\n",
       "    <tr>\n",
       "      <th>2</th>\n",
       "      <td>Sally</td>\n",
       "      <td>Williams</td>\n",
       "    </tr>\n",
       "    <tr>\n",
       "      <th>3</th>\n",
       "      <td>Dennis</td>\n",
       "      <td>Jones</td>\n",
       "    </tr>\n",
       "    <tr>\n",
       "      <th>4</th>\n",
       "      <td>Juana</td>\n",
       "      <td>Rodriguez</td>\n",
       "    </tr>\n",
       "    <tr>\n",
       "      <th>5</th>\n",
       "      <td>Li</td>\n",
       "      <td>Zhang</td>\n",
       "    </tr>\n",
       "  </tbody>\n",
       "</table>\n",
       "</div>"
      ],
      "text/plain": [
       "          Firstname   Lastname\n",
       "Doctor_ID                     \n",
       "1           Michael      Smith\n",
       "2             Sally   Williams\n",
       "3            Dennis      Jones\n",
       "4             Juana  Rodriguez\n",
       "5                Li      Zhang"
      ]
     },
     "execution_count": 69,
     "metadata": {},
     "output_type": "execute_result"
    }
   ],
   "source": [
    "doctors.head()"
   ]
  },
  {
   "cell_type": "code",
   "execution_count": 70,
   "id": "c89d23d6",
   "metadata": {},
   "outputs": [
    {
     "data": {
      "text/html": [
       "<div>\n",
       "<style scoped>\n",
       "    .dataframe tbody tr th:only-of-type {\n",
       "        vertical-align: middle;\n",
       "    }\n",
       "\n",
       "    .dataframe tbody tr th {\n",
       "        vertical-align: top;\n",
       "    }\n",
       "\n",
       "    .dataframe thead th {\n",
       "        text-align: right;\n",
       "    }\n",
       "</style>\n",
       "<table border=\"1\" class=\"dataframe\">\n",
       "  <thead>\n",
       "    <tr style=\"text-align: right;\">\n",
       "      <th></th>\n",
       "      <th>Email</th>\n",
       "      <th>Street_address</th>\n",
       "      <th>City</th>\n",
       "      <th>State</th>\n",
       "      <th>Zip</th>\n",
       "    </tr>\n",
       "    <tr>\n",
       "      <th>Patient_ID</th>\n",
       "      <th></th>\n",
       "      <th></th>\n",
       "      <th></th>\n",
       "      <th></th>\n",
       "      <th></th>\n",
       "    </tr>\n",
       "  </thead>\n",
       "  <tbody>\n",
       "    <tr>\n",
       "      <th>1</th>\n",
       "      <td>YunPor5@gmail.com</td>\n",
       "      <td>872 Jakubowski Creek</td>\n",
       "      <td>New York</td>\n",
       "      <td>New York</td>\n",
       "      <td>10007</td>\n",
       "    </tr>\n",
       "    <tr>\n",
       "      <th>2</th>\n",
       "      <td>ColJal8@yahoo.com</td>\n",
       "      <td>347 Immanuel Mountains</td>\n",
       "      <td>New York</td>\n",
       "      <td>New York</td>\n",
       "      <td>10007</td>\n",
       "    </tr>\n",
       "    <tr>\n",
       "      <th>3</th>\n",
       "      <td>LigAus2@gmail.com</td>\n",
       "      <td>6040 Williamson Curve</td>\n",
       "      <td>New York</td>\n",
       "      <td>New York</td>\n",
       "      <td>10012</td>\n",
       "    </tr>\n",
       "    <tr>\n",
       "      <th>4</th>\n",
       "      <td>AliJor1@aol.com</td>\n",
       "      <td>93049 Audley Island</td>\n",
       "      <td>New York</td>\n",
       "      <td>New York</td>\n",
       "      <td>10006</td>\n",
       "    </tr>\n",
       "    <tr>\n",
       "      <th>5</th>\n",
       "      <td>DzeMer1@gmail.com</td>\n",
       "      <td>939 Nicolas Loaf Suite 330</td>\n",
       "      <td>New York</td>\n",
       "      <td>New York</td>\n",
       "      <td>10012</td>\n",
       "    </tr>\n",
       "  </tbody>\n",
       "</table>\n",
       "</div>"
      ],
      "text/plain": [
       "                        Email              Street_address      City     State  \\\n",
       "Patient_ID                                                                      \n",
       "1           YunPor5@gmail.com        872 Jakubowski Creek  New York  New York   \n",
       "2           ColJal8@yahoo.com      347 Immanuel Mountains  New York  New York   \n",
       "3           LigAus2@gmail.com       6040 Williamson Curve  New York  New York   \n",
       "4             AliJor1@aol.com         93049 Audley Island  New York  New York   \n",
       "5           DzeMer1@gmail.com  939 Nicolas Loaf Suite 330  New York  New York   \n",
       "\n",
       "              Zip  \n",
       "Patient_ID         \n",
       "1           10007  \n",
       "2           10007  \n",
       "3           10012  \n",
       "4           10006  \n",
       "5           10012  "
      ]
     },
     "execution_count": 70,
     "metadata": {},
     "output_type": "execute_result"
    }
   ],
   "source": [
    "patient_contact.head()"
   ]
  },
  {
   "cell_type": "code",
   "execution_count": 71,
   "id": "56284a2f",
   "metadata": {},
   "outputs": [
    {
     "data": {
      "text/html": [
       "<div>\n",
       "<style scoped>\n",
       "    .dataframe tbody tr th:only-of-type {\n",
       "        vertical-align: middle;\n",
       "    }\n",
       "\n",
       "    .dataframe tbody tr th {\n",
       "        vertical-align: top;\n",
       "    }\n",
       "\n",
       "    .dataframe thead th {\n",
       "        text-align: right;\n",
       "    }\n",
       "</style>\n",
       "<table border=\"1\" class=\"dataframe\">\n",
       "  <thead>\n",
       "    <tr style=\"text-align: right;\">\n",
       "      <th></th>\n",
       "      <th>Doctor</th>\n",
       "    </tr>\n",
       "    <tr>\n",
       "      <th>Patient_ID</th>\n",
       "      <th></th>\n",
       "    </tr>\n",
       "  </thead>\n",
       "  <tbody>\n",
       "    <tr>\n",
       "      <th>1</th>\n",
       "      <td>Zhang</td>\n",
       "    </tr>\n",
       "    <tr>\n",
       "      <th>2</th>\n",
       "      <td>Tataryn</td>\n",
       "    </tr>\n",
       "    <tr>\n",
       "      <th>3</th>\n",
       "      <td>Harris</td>\n",
       "    </tr>\n",
       "    <tr>\n",
       "      <th>4</th>\n",
       "      <td>Jones</td>\n",
       "    </tr>\n",
       "    <tr>\n",
       "      <th>5</th>\n",
       "      <td>Petit</td>\n",
       "    </tr>\n",
       "  </tbody>\n",
       "</table>\n",
       "</div>"
      ],
      "text/plain": [
       "             Doctor\n",
       "Patient_ID         \n",
       "1             Zhang\n",
       "2           Tataryn\n",
       "3            Harris\n",
       "4             Jones\n",
       "5             Petit"
      ]
     },
     "execution_count": 71,
     "metadata": {},
     "output_type": "execute_result"
    }
   ],
   "source": [
    "patient_doctors.head()"
   ]
  },
  {
   "cell_type": "code",
   "execution_count": 72,
   "id": "393f3b26",
   "metadata": {},
   "outputs": [
    {
     "data": {
      "text/html": [
       "<div>\n",
       "<style scoped>\n",
       "    .dataframe tbody tr th:only-of-type {\n",
       "        vertical-align: middle;\n",
       "    }\n",
       "\n",
       "    .dataframe tbody tr th {\n",
       "        vertical-align: top;\n",
       "    }\n",
       "\n",
       "    .dataframe thead th {\n",
       "        text-align: right;\n",
       "    }\n",
       "</style>\n",
       "<table border=\"1\" class=\"dataframe\">\n",
       "  <thead>\n",
       "    <tr style=\"text-align: right;\">\n",
       "      <th></th>\n",
       "      <th>Amount_due</th>\n",
       "      <th>Ins_co</th>\n",
       "    </tr>\n",
       "    <tr>\n",
       "      <th>Patient_ID</th>\n",
       "      <th></th>\n",
       "      <th></th>\n",
       "    </tr>\n",
       "  </thead>\n",
       "  <tbody>\n",
       "    <tr>\n",
       "      <th>1</th>\n",
       "      <td>400</td>\n",
       "      <td>CityPlan Health</td>\n",
       "    </tr>\n",
       "    <tr>\n",
       "      <th>2</th>\n",
       "      <td>0</td>\n",
       "      <td>MetroCare Basic</td>\n",
       "    </tr>\n",
       "    <tr>\n",
       "      <th>3</th>\n",
       "      <td>300</td>\n",
       "      <td>LifeWell</td>\n",
       "    </tr>\n",
       "    <tr>\n",
       "      <th>4</th>\n",
       "      <td>0</td>\n",
       "      <td>New Day Medical</td>\n",
       "    </tr>\n",
       "    <tr>\n",
       "      <th>5</th>\n",
       "      <td>0</td>\n",
       "      <td>Healthplan Plus</td>\n",
       "    </tr>\n",
       "  </tbody>\n",
       "</table>\n",
       "</div>"
      ],
      "text/plain": [
       "            Amount_due           Ins_co\n",
       "Patient_ID                             \n",
       "1                  400  CityPlan Health\n",
       "2                    0  MetroCare Basic\n",
       "3                  300         LifeWell\n",
       "4                    0  New Day Medical\n",
       "5                    0  Healthplan Plus"
      ]
     },
     "execution_count": 72,
     "metadata": {},
     "output_type": "execute_result"
    }
   ],
   "source": [
    "patient_finance.head()"
   ]
  },
  {
   "cell_type": "code",
   "execution_count": 73,
   "id": "6de8cfe2",
   "metadata": {},
   "outputs": [
    {
     "data": {
      "text/html": [
       "<div>\n",
       "<style scoped>\n",
       "    .dataframe tbody tr th:only-of-type {\n",
       "        vertical-align: middle;\n",
       "    }\n",
       "\n",
       "    .dataframe tbody tr th {\n",
       "        vertical-align: top;\n",
       "    }\n",
       "\n",
       "    .dataframe thead th {\n",
       "        text-align: right;\n",
       "    }\n",
       "</style>\n",
       "<table border=\"1\" class=\"dataframe\">\n",
       "  <thead>\n",
       "    <tr style=\"text-align: right;\">\n",
       "      <th></th>\n",
       "      <th>Last_height</th>\n",
       "      <th>Last_weight</th>\n",
       "      <th>Last_heartrate</th>\n",
       "      <th>Last_systolic_BP</th>\n",
       "      <th>Last_diastolic_BP</th>\n",
       "    </tr>\n",
       "    <tr>\n",
       "      <th>Patient_ID</th>\n",
       "      <th></th>\n",
       "      <th></th>\n",
       "      <th></th>\n",
       "      <th></th>\n",
       "      <th></th>\n",
       "    </tr>\n",
       "  </thead>\n",
       "  <tbody>\n",
       "    <tr>\n",
       "      <th>1</th>\n",
       "      <td>175</td>\n",
       "      <td>200</td>\n",
       "      <td>58</td>\n",
       "      <td>123</td>\n",
       "      <td>69</td>\n",
       "    </tr>\n",
       "    <tr>\n",
       "      <th>2</th>\n",
       "      <td>155</td>\n",
       "      <td>197</td>\n",
       "      <td>73</td>\n",
       "      <td>127</td>\n",
       "      <td>73</td>\n",
       "    </tr>\n",
       "    <tr>\n",
       "      <th>3</th>\n",
       "      <td>172</td>\n",
       "      <td>216</td>\n",
       "      <td>76</td>\n",
       "      <td>121</td>\n",
       "      <td>75</td>\n",
       "    </tr>\n",
       "    <tr>\n",
       "      <th>4</th>\n",
       "      <td>174</td>\n",
       "      <td>215</td>\n",
       "      <td>74</td>\n",
       "      <td>130</td>\n",
       "      <td>74</td>\n",
       "    </tr>\n",
       "    <tr>\n",
       "      <th>5</th>\n",
       "      <td>171</td>\n",
       "      <td>167</td>\n",
       "      <td>77</td>\n",
       "      <td>112</td>\n",
       "      <td>67</td>\n",
       "    </tr>\n",
       "  </tbody>\n",
       "</table>\n",
       "</div>"
      ],
      "text/plain": [
       "            Last_height  Last_weight  Last_heartrate  Last_systolic_BP  \\\n",
       "Patient_ID                                                               \n",
       "1                   175          200              58               123   \n",
       "2                   155          197              73               127   \n",
       "3                   172          216              76               121   \n",
       "4                   174          215              74               130   \n",
       "5                   171          167              77               112   \n",
       "\n",
       "            Last_diastolic_BP  \n",
       "Patient_ID                     \n",
       "1                          69  \n",
       "2                          73  \n",
       "3                          75  \n",
       "4                          74  \n",
       "5                          67  "
      ]
     },
     "execution_count": 73,
     "metadata": {},
     "output_type": "execute_result"
    }
   ],
   "source": [
    "patient_vitals.head()"
   ]
  },
  {
   "cell_type": "code",
   "execution_count": 74,
   "id": "25bca843",
   "metadata": {},
   "outputs": [
    {
     "data": {
      "text/html": [
       "<div>\n",
       "<style scoped>\n",
       "    .dataframe tbody tr th:only-of-type {\n",
       "        vertical-align: middle;\n",
       "    }\n",
       "\n",
       "    .dataframe tbody tr th {\n",
       "        vertical-align: top;\n",
       "    }\n",
       "\n",
       "    .dataframe thead th {\n",
       "        text-align: right;\n",
       "    }\n",
       "</style>\n",
       "<table border=\"1\" class=\"dataframe\">\n",
       "  <thead>\n",
       "    <tr style=\"text-align: right;\">\n",
       "      <th></th>\n",
       "      <th>Current_smoker</th>\n",
       "      <th>Condition_1</th>\n",
       "      <th>Condition_2</th>\n",
       "      <th>Condition_3</th>\n",
       "      <th>Condition_4</th>\n",
       "      <th>Condition_5</th>\n",
       "      <th>Condition_6</th>\n",
       "      <th>Condition_7</th>\n",
       "      <th>Condition_8</th>\n",
       "      <th>Condition_9</th>\n",
       "      <th>Condition_10</th>\n",
       "    </tr>\n",
       "    <tr>\n",
       "      <th>Patient_ID</th>\n",
       "      <th></th>\n",
       "      <th></th>\n",
       "      <th></th>\n",
       "      <th></th>\n",
       "      <th></th>\n",
       "      <th></th>\n",
       "      <th></th>\n",
       "      <th></th>\n",
       "      <th></th>\n",
       "      <th></th>\n",
       "      <th></th>\n",
       "    </tr>\n",
       "  </thead>\n",
       "  <tbody>\n",
       "    <tr>\n",
       "      <th>1</th>\n",
       "      <td>True</td>\n",
       "      <td>False</td>\n",
       "      <td>True</td>\n",
       "      <td>False</td>\n",
       "      <td>False</td>\n",
       "      <td>False</td>\n",
       "      <td>False</td>\n",
       "      <td>False</td>\n",
       "      <td>False</td>\n",
       "      <td>False</td>\n",
       "      <td>False</td>\n",
       "    </tr>\n",
       "    <tr>\n",
       "      <th>2</th>\n",
       "      <td>False</td>\n",
       "      <td>False</td>\n",
       "      <td>False</td>\n",
       "      <td>False</td>\n",
       "      <td>False</td>\n",
       "      <td>False</td>\n",
       "      <td>False</td>\n",
       "      <td>False</td>\n",
       "      <td>False</td>\n",
       "      <td>False</td>\n",
       "      <td>False</td>\n",
       "    </tr>\n",
       "    <tr>\n",
       "      <th>3</th>\n",
       "      <td>False</td>\n",
       "      <td>False</td>\n",
       "      <td>True</td>\n",
       "      <td>False</td>\n",
       "      <td>False</td>\n",
       "      <td>False</td>\n",
       "      <td>False</td>\n",
       "      <td>False</td>\n",
       "      <td>False</td>\n",
       "      <td>False</td>\n",
       "      <td>False</td>\n",
       "    </tr>\n",
       "    <tr>\n",
       "      <th>4</th>\n",
       "      <td>False</td>\n",
       "      <td>False</td>\n",
       "      <td>False</td>\n",
       "      <td>False</td>\n",
       "      <td>False</td>\n",
       "      <td>False</td>\n",
       "      <td>False</td>\n",
       "      <td>False</td>\n",
       "      <td>False</td>\n",
       "      <td>False</td>\n",
       "      <td>False</td>\n",
       "    </tr>\n",
       "    <tr>\n",
       "      <th>5</th>\n",
       "      <td>False</td>\n",
       "      <td>False</td>\n",
       "      <td>False</td>\n",
       "      <td>False</td>\n",
       "      <td>False</td>\n",
       "      <td>False</td>\n",
       "      <td>False</td>\n",
       "      <td>False</td>\n",
       "      <td>False</td>\n",
       "      <td>False</td>\n",
       "      <td>False</td>\n",
       "    </tr>\n",
       "  </tbody>\n",
       "</table>\n",
       "</div>"
      ],
      "text/plain": [
       "            Current_smoker  Condition_1  Condition_2  Condition_3  \\\n",
       "Patient_ID                                                          \n",
       "1                     True        False         True        False   \n",
       "2                    False        False        False        False   \n",
       "3                    False        False         True        False   \n",
       "4                    False        False        False        False   \n",
       "5                    False        False        False        False   \n",
       "\n",
       "            Condition_4  Condition_5  Condition_6  Condition_7  Condition_8  \\\n",
       "Patient_ID                                                                    \n",
       "1                 False        False        False        False        False   \n",
       "2                 False        False        False        False        False   \n",
       "3                 False        False        False        False        False   \n",
       "4                 False        False        False        False        False   \n",
       "5                 False        False        False        False        False   \n",
       "\n",
       "            Condition_9  Condition_10  \n",
       "Patient_ID                             \n",
       "1                 False         False  \n",
       "2                 False         False  \n",
       "3                 False         False  \n",
       "4                 False         False  \n",
       "5                 False         False  "
      ]
     },
     "execution_count": 74,
     "metadata": {},
     "output_type": "execute_result"
    }
   ],
   "source": [
    "patient_health.head()"
   ]
  },
  {
   "cell_type": "code",
   "execution_count": 75,
   "id": "4a5bfa56",
   "metadata": {},
   "outputs": [
    {
     "data": {
      "text/html": [
       "<div>\n",
       "<style scoped>\n",
       "    .dataframe tbody tr th:only-of-type {\n",
       "        vertical-align: middle;\n",
       "    }\n",
       "\n",
       "    .dataframe tbody tr th {\n",
       "        vertical-align: top;\n",
       "    }\n",
       "\n",
       "    .dataframe thead th {\n",
       "        text-align: right;\n",
       "    }\n",
       "</style>\n",
       "<table border=\"1\" class=\"dataframe\">\n",
       "  <thead>\n",
       "    <tr style=\"text-align: right;\">\n",
       "      <th></th>\n",
       "      <th>Firstname</th>\n",
       "      <th>Lastname</th>\n",
       "      <th>DOB</th>\n",
       "      <th>Age</th>\n",
       "      <th>Biol_sex</th>\n",
       "      <th>Ethnicity</th>\n",
       "    </tr>\n",
       "    <tr>\n",
       "      <th>Patient_ID</th>\n",
       "      <th></th>\n",
       "      <th></th>\n",
       "      <th></th>\n",
       "      <th></th>\n",
       "      <th></th>\n",
       "      <th></th>\n",
       "    </tr>\n",
       "  </thead>\n",
       "  <tbody>\n",
       "    <tr>\n",
       "      <th>1</th>\n",
       "      <td>Porvangchee</td>\n",
       "      <td>Yun</td>\n",
       "      <td>1972-03-20</td>\n",
       "      <td>51</td>\n",
       "      <td>Male</td>\n",
       "      <td>Asian or Pacific Islander</td>\n",
       "    </tr>\n",
       "    <tr>\n",
       "      <th>2</th>\n",
       "      <td>Jalen</td>\n",
       "      <td>Collins</td>\n",
       "      <td>1948-06-15</td>\n",
       "      <td>75</td>\n",
       "      <td>Female</td>\n",
       "      <td>Black (not Hispanic)</td>\n",
       "    </tr>\n",
       "    <tr>\n",
       "      <th>3</th>\n",
       "      <td>Austin</td>\n",
       "      <td>Lightfoot</td>\n",
       "      <td>1964-09-10</td>\n",
       "      <td>59</td>\n",
       "      <td>Male</td>\n",
       "      <td>American Indian or Native Alaskan</td>\n",
       "    </tr>\n",
       "    <tr>\n",
       "      <th>4</th>\n",
       "      <td>Jordan</td>\n",
       "      <td>Ali</td>\n",
       "      <td>1964-02-24</td>\n",
       "      <td>59</td>\n",
       "      <td>Male</td>\n",
       "      <td>Black (not Hispanic)</td>\n",
       "    </tr>\n",
       "    <tr>\n",
       "      <th>5</th>\n",
       "      <td>Meron</td>\n",
       "      <td>Dzerekey</td>\n",
       "      <td>1990-03-25</td>\n",
       "      <td>33</td>\n",
       "      <td>Female</td>\n",
       "      <td>Black (not Hispanic)</td>\n",
       "    </tr>\n",
       "  </tbody>\n",
       "</table>\n",
       "</div>"
      ],
      "text/plain": [
       "              Firstname   Lastname         DOB  Age Biol_sex  \\\n",
       "Patient_ID                                                     \n",
       "1           Porvangchee        Yun  1972-03-20   51     Male   \n",
       "2                 Jalen    Collins  1948-06-15   75   Female   \n",
       "3                Austin  Lightfoot  1964-09-10   59     Male   \n",
       "4                Jordan        Ali  1964-02-24   59     Male   \n",
       "5                 Meron   Dzerekey  1990-03-25   33   Female   \n",
       "\n",
       "                                    Ethnicity  \n",
       "Patient_ID                                     \n",
       "1                   Asian or Pacific Islander  \n",
       "2                        Black (not Hispanic)  \n",
       "3           American Indian or Native Alaskan  \n",
       "4                        Black (not Hispanic)  \n",
       "5                        Black (not Hispanic)  "
      ]
     },
     "execution_count": 75,
     "metadata": {},
     "output_type": "execute_result"
    }
   ],
   "source": [
    "patient_id.head()"
   ]
  },
  {
   "cell_type": "code",
   "execution_count": 76,
   "id": "3824e789",
   "metadata": {},
   "outputs": [
    {
     "data": {
      "text/plain": [
       "Firstname    object\n",
       "Lastname     object\n",
       "dtype: object"
      ]
     },
     "execution_count": 76,
     "metadata": {},
     "output_type": "execute_result"
    }
   ],
   "source": [
    "doctors.dtypes"
   ]
  },
  {
   "cell_type": "code",
   "execution_count": 77,
   "id": "32c404ff",
   "metadata": {},
   "outputs": [
    {
     "data": {
      "text/plain": [
       "Doctor    object\n",
       "dtype: object"
      ]
     },
     "execution_count": 77,
     "metadata": {},
     "output_type": "execute_result"
    }
   ],
   "source": [
    "patient_doctors.dtypes"
   ]
  },
  {
   "cell_type": "markdown",
   "id": "ebfd9355",
   "metadata": {},
   "source": [
    "**Connect and insert to db**"
   ]
  },
  {
   "cell_type": "code",
   "execution_count": 89,
   "id": "d85f9daf",
   "metadata": {},
   "outputs": [],
   "source": [
    "conn = sqlite3.connect('medical_practice.db')\n",
    "cur = conn.cursor()"
   ]
  },
  {
   "cell_type": "code",
   "execution_count": 79,
   "id": "2990f8fd",
   "metadata": {},
   "outputs": [
    {
     "data": {
      "text/plain": [
       "<sqlite3.Cursor at 0x7f8265fe6b40>"
      ]
     },
     "execution_count": 79,
     "metadata": {},
     "output_type": "execute_result"
    }
   ],
   "source": [
    "cur.execute('''\n",
    "CREATE TABLE IF NOT EXISTS doctors (\n",
    "doctor_id INTEGER PRIMARY KEY,\n",
    "first_name VARCHAR(255),\n",
    "last_name VARCHAR(255));\n",
    "''')\n"
   ]
  },
  {
   "cell_type": "code",
   "execution_count": 80,
   "id": "81499698",
   "metadata": {},
   "outputs": [
    {
     "data": {
      "text/plain": [
       "<sqlite3.Cursor at 0x7f8265fe6b40>"
      ]
     },
     "execution_count": 80,
     "metadata": {},
     "output_type": "execute_result"
    }
   ],
   "source": [
    "cur.execute('''\n",
    "CREATE TABLE IF NOT EXISTS patient_contact (\n",
    "patient_id INTEGER PRIMARY KEY,\n",
    "email VARCHAR(255),\n",
    "street_address VARCHAR(255),\n",
    "city VARCHAR(255),\n",
    "state VARCHAR(255),\n",
    "zip INTEGER\n",
    ");\n",
    "''')"
   ]
  },
  {
   "cell_type": "code",
   "execution_count": 81,
   "id": "26d536e3",
   "metadata": {},
   "outputs": [
    {
     "data": {
      "text/plain": [
       "<sqlite3.Cursor at 0x7f8265fe6b40>"
      ]
     },
     "execution_count": 81,
     "metadata": {},
     "output_type": "execute_result"
    }
   ],
   "source": [
    "cur.execute('''\n",
    "CREATE TABLE IF NOT EXISTS patient_doctors (\n",
    "patient_id INTEGER PRIMARY KEY,\n",
    "doctor VARCHAR(255)\n",
    ");\n",
    "''')"
   ]
  },
  {
   "cell_type": "code",
   "execution_count": 82,
   "id": "2afec9df",
   "metadata": {},
   "outputs": [
    {
     "data": {
      "text/plain": [
       "<sqlite3.Cursor at 0x7f8265fe6b40>"
      ]
     },
     "execution_count": 82,
     "metadata": {},
     "output_type": "execute_result"
    }
   ],
   "source": [
    "cur.execute(\n",
    "'''\n",
    "CREATE TABLE IF NOT EXISTS patient_health (\n",
    "  Patient_ID INT,\n",
    "  Current_smoker BOOLEAN,\n",
    "  Condition_1 VARCHAR(255),\n",
    "  Condition_2 VARCHAR(255),\n",
    "  Condition_3 VARCHAR(255),\n",
    "  Condition_4 VARCHAR(255),\n",
    "  Condition_5 VARCHAR(255),\n",
    "  Condition_6 VARCHAR(255),\n",
    "  Condition_7 VARCHAR(255),\n",
    "  Condition_8 VARCHAR(255),\n",
    "  Condition_9 VARCHAR(255),\n",
    "  Condition_10 VARCHAR(255),\n",
    "  PRIMARY KEY (Patient_ID),\n",
    "  FOREIGN KEY (Patient_ID) REFERENCES patient_id(Patient_ID)\n",
    ");\n",
    "''')"
   ]
  },
  {
   "cell_type": "code",
   "execution_count": 83,
   "id": "d28dd6c1",
   "metadata": {},
   "outputs": [
    {
     "data": {
      "text/plain": [
       "<sqlite3.Cursor at 0x7f8265fe6b40>"
      ]
     },
     "execution_count": 83,
     "metadata": {},
     "output_type": "execute_result"
    }
   ],
   "source": [
    "cur.execute('''\n",
    "CREATE TABLE patient_vitals (\n",
    "  Patient_ID INT,\n",
    "  Last_height DECIMAL(5, 2),\n",
    "  Last_weight DECIMAL(5, 2),\n",
    "  Last_heartrate INT,\n",
    "  Last_systolic_BP INT,\n",
    "  Last_diastolic_BP INT,\n",
    "  PRIMARY KEY (Patient_ID),\n",
    "  FOREIGN KEY (Patient_ID) REFERENCES patient_id(Patient_ID)\n",
    ");\n",
    "''')"
   ]
  },
  {
   "cell_type": "code",
   "execution_count": 84,
   "id": "0963ee0f",
   "metadata": {},
   "outputs": [
    {
     "data": {
      "text/plain": [
       "<sqlite3.Cursor at 0x7f8265fe6b40>"
      ]
     },
     "execution_count": 84,
     "metadata": {},
     "output_type": "execute_result"
    }
   ],
   "source": [
    "cur.execute('''\n",
    "CREATE TABLE patient_finance (\n",
    "  Patient_ID INT,\n",
    "  Amount_due DECIMAL(10, 2),\n",
    "  Ins_co VARCHAR(255),\n",
    "  PRIMARY KEY (Patient_ID),\n",
    "  FOREIGN KEY (Patient_ID) REFERENCES patient_id(Patient_ID)\n",
    ");\n",
    "''')"
   ]
  },
  {
   "cell_type": "code",
   "execution_count": 90,
   "id": "e3370f8c",
   "metadata": {},
   "outputs": [
    {
     "data": {
      "text/plain": [
       "<sqlite3.Cursor at 0x7f8265c7d3c0>"
      ]
     },
     "execution_count": 90,
     "metadata": {},
     "output_type": "execute_result"
    }
   ],
   "source": [
    "cur.execute('''\n",
    "CREATE TABLE patient_id (\n",
    "  Patient_ID INT PRIMARY KEY,\n",
    "  Firstname VARCHAR(255),\n",
    "  Lastname VARCHAR(255),\n",
    "  DOB DATE,\n",
    "  Age INT,\n",
    "  Biol_sex VARCHAR(10),\n",
    "  Ethnicity VARCHAR(255)\n",
    ");\n",
    "''')"
   ]
  },
  {
   "cell_type": "code",
   "execution_count": 91,
   "id": "61aa6f03",
   "metadata": {},
   "outputs": [],
   "source": [
    "def insert_data(table_name, df):\n",
    "    \n",
    "    for i, row in df.iterrows():\n",
    "        insert_stmt = f\"INSERT INTO {table_name} VALUES ({','.join(['?' for i in range(len(row))])})\"\n",
    "        \n",
    "        cur.execute(insert_stmt, tuple(row))\n",
    "    conn.commit()"
   ]
  },
  {
   "cell_type": "code",
   "execution_count": 97,
   "id": "06c79436",
   "metadata": {},
   "outputs": [],
   "source": [
    "insert_data('doctors',doctors)\n",
    "insert_data('patient_id',patient_id)\n",
    "insert_data('patient_contact',patient_contact)\n",
    "insert_data('patient_doctors',patient_doctors)\n",
    "insert_data('patient_finance',patient_finance)\n",
    "insert_data('patient_health',patient_health)\n",
    "insert_data('patient_vitals',patient_vitals)"
   ]
  },
  {
   "cell_type": "code",
   "execution_count": 92,
   "id": "cf16b29c",
   "metadata": {},
   "outputs": [],
   "source": []
  },
  {
   "cell_type": "code",
   "execution_count": 94,
   "id": "ea3e77ab",
   "metadata": {},
   "outputs": [
    {
     "ename": "ImproperUseError",
     "evalue": "Argument Subscript(value=Name(id='dfs', ctx=Load()), slice=Constant(value=0), ctx=Load()) is not a variable or an attribute.",
     "output_type": "error",
     "traceback": [
      "\u001b[0;31m---------------------------------------------------------------------------\u001b[0m",
      "\u001b[0;31mImproperUseError\u001b[0m                          Traceback (most recent call last)",
      "Cell \u001b[0;32mIn[94], line 1\u001b[0m\n\u001b[0;32m----> 1\u001b[0m \u001b[43mnameof\u001b[49m\u001b[43m(\u001b[49m\u001b[43mdfs\u001b[49m\u001b[43m[\u001b[49m\u001b[38;5;241;43m0\u001b[39;49m\u001b[43m]\u001b[49m\u001b[43m)\u001b[49m\n",
      "File \u001b[0;32m~/anaconda3/envs/django/lib/python3.10/site-packages/varname/core.py:327\u001b[0m, in \u001b[0;36mnameof\u001b[0;34m(var, frame, vars_only, *more_vars)\u001b[0m\n\u001b[1;32m    317\u001b[0m         \u001b[38;5;28;01mraise\u001b[39;00m VarnameRetrievingError(\n\u001b[1;32m    318\u001b[0m             \u001b[38;5;124m\"\u001b[39m\u001b[38;5;124mAre you trying to call nameof from exec/eval? \u001b[39m\u001b[38;5;124m\"\u001b[39m\n\u001b[1;32m    319\u001b[0m             \u001b[38;5;124m\"\u001b[39m\u001b[38;5;124mIn such a case, nameof can only be called with single \u001b[39m\u001b[38;5;124m\"\u001b[39m\n\u001b[1;32m    320\u001b[0m             \u001b[38;5;124m\"\u001b[39m\u001b[38;5;124margument and no keyword arguments.\u001b[39m\u001b[38;5;124m\"\u001b[39m\n\u001b[1;32m    321\u001b[0m         )\n\u001b[1;32m    322\u001b[0m     \u001b[38;5;28;01mraise\u001b[39;00m VarnameRetrievingError(\n\u001b[1;32m    323\u001b[0m         \u001b[38;5;124m\"\u001b[39m\u001b[38;5;124mSource code unavailable, nameof can only retrieve the name of \u001b[39m\u001b[38;5;124m\"\u001b[39m\n\u001b[1;32m    324\u001b[0m         \u001b[38;5;124m\"\u001b[39m\u001b[38;5;124ma single variable, and argument `full` should not be specified.\u001b[39m\u001b[38;5;124m\"\u001b[39m\n\u001b[1;32m    325\u001b[0m     )\n\u001b[0;32m--> 327\u001b[0m out \u001b[38;5;241m=\u001b[39m \u001b[43margname\u001b[49m\u001b[43m(\u001b[49m\n\u001b[1;32m    328\u001b[0m \u001b[43m    \u001b[49m\u001b[38;5;124;43m\"\u001b[39;49m\u001b[38;5;124;43mvar\u001b[39;49m\u001b[38;5;124;43m\"\u001b[39;49m\u001b[43m,\u001b[49m\n\u001b[1;32m    329\u001b[0m \u001b[43m    \u001b[49m\u001b[38;5;124;43m\"\u001b[39;49m\u001b[38;5;124;43m*more_vars\u001b[39;49m\u001b[38;5;124;43m\"\u001b[39;49m\u001b[43m,\u001b[49m\n\u001b[1;32m    330\u001b[0m \u001b[43m    \u001b[49m\u001b[43mfunc\u001b[49m\u001b[38;5;241;43m=\u001b[39;49m\u001b[43mnameof\u001b[49m\u001b[43m,\u001b[49m\n\u001b[1;32m    331\u001b[0m \u001b[43m    \u001b[49m\u001b[43mframe\u001b[49m\u001b[38;5;241;43m=\u001b[39;49m\u001b[43mframe\u001b[49m\u001b[43m,\u001b[49m\n\u001b[1;32m    332\u001b[0m \u001b[43m    \u001b[49m\u001b[43mvars_only\u001b[49m\u001b[38;5;241;43m=\u001b[39;49m\u001b[43mvars_only\u001b[49m\u001b[43m,\u001b[49m\n\u001b[1;32m    333\u001b[0m \u001b[43m\u001b[49m\u001b[43m)\u001b[49m\n\u001b[1;32m    334\u001b[0m \u001b[38;5;28;01mreturn\u001b[39;00m out \u001b[38;5;28;01mif\u001b[39;00m more_vars \u001b[38;5;28;01melse\u001b[39;00m out[\u001b[38;5;241m0\u001b[39m]\n",
      "File \u001b[0;32m~/anaconda3/envs/django/lib/python3.10/site-packages/varname/core.py:500\u001b[0m, in \u001b[0;36margname\u001b[0;34m(arg, func, dispatch, frame, ignore, vars_only, *more_args)\u001b[0m\n\u001b[1;32m    498\u001b[0m source \u001b[38;5;241m=\u001b[39m argument_sources[farg_name]\n\u001b[1;32m    499\u001b[0m \u001b[38;5;28;01mif\u001b[39;00m \u001b[38;5;28misinstance\u001b[39m(source, ast\u001b[38;5;241m.\u001b[39mAST):\n\u001b[0;32m--> 500\u001b[0m     \u001b[38;5;28;01mraise\u001b[39;00m ImproperUseError(\n\u001b[1;32m    501\u001b[0m         \u001b[38;5;124mf\u001b[39m\u001b[38;5;124m\"\u001b[39m\u001b[38;5;124mArgument \u001b[39m\u001b[38;5;132;01m{\u001b[39;00mast\u001b[38;5;241m.\u001b[39mdump(source)\u001b[38;5;132;01m}\u001b[39;00m\u001b[38;5;124m is not a variable \u001b[39m\u001b[38;5;124m\"\u001b[39m\n\u001b[1;32m    502\u001b[0m         \u001b[38;5;124m\"\u001b[39m\u001b[38;5;124mor an attribute.\u001b[39m\u001b[38;5;124m\"\u001b[39m\n\u001b[1;32m    503\u001b[0m     )\n\u001b[1;32m    505\u001b[0m \u001b[38;5;28;01mif\u001b[39;00m \u001b[38;5;28misinstance\u001b[39m(farg_subscript, \u001b[38;5;28mint\u001b[39m) \u001b[38;5;129;01mand\u001b[39;00m \u001b[38;5;129;01mnot\u001b[39;00m \u001b[38;5;28misinstance\u001b[39m(source, \u001b[38;5;28mtuple\u001b[39m):\n\u001b[1;32m    506\u001b[0m     \u001b[38;5;28;01mraise\u001b[39;00m ImproperUseError(\n\u001b[1;32m    507\u001b[0m         \u001b[38;5;124mf\u001b[39m\u001b[38;5;124m\"\u001b[39m\u001b[38;5;124m`\u001b[39m\u001b[38;5;132;01m{\u001b[39;00mfarg_name\u001b[38;5;132;01m}\u001b[39;00m\u001b[38;5;124m` is not a positional argument.\u001b[39m\u001b[38;5;124m\"\u001b[39m\n\u001b[1;32m    508\u001b[0m     )\n",
      "\u001b[0;31mImproperUseError\u001b[0m: Argument Subscript(value=Name(id='dfs', ctx=Load()), slice=Constant(value=0), ctx=Load()) is not a variable or an attribute."
     ]
    }
   ],
   "source": []
  },
  {
   "cell_type": "code",
   "execution_count": null,
   "id": "954cac98",
   "metadata": {},
   "outputs": [],
   "source": []
  },
  {
   "cell_type": "code",
   "execution_count": null,
   "id": "1d95c69f",
   "metadata": {},
   "outputs": [],
   "source": []
  },
  {
   "cell_type": "code",
   "execution_count": 86,
   "id": "9bea8961",
   "metadata": {},
   "outputs": [],
   "source": [
    "conn.commit()"
   ]
  },
  {
   "cell_type": "code",
   "execution_count": 87,
   "id": "de33fe14",
   "metadata": {},
   "outputs": [],
   "source": [
    "conn.close()"
   ]
  },
  {
   "cell_type": "code",
   "execution_count": 1,
   "id": "7007ab79",
   "metadata": {},
   "outputs": [
    {
     "name": "stdout",
     "output_type": "stream",
     "text": [
      "hello world\n"
     ]
    }
   ],
   "source": [
    "print('hello world')"
   ]
  },
  {
   "cell_type": "code",
   "execution_count": null,
   "id": "0c57fe86",
   "metadata": {},
   "outputs": [],
   "source": []
  }
 ],
 "metadata": {
  "kernelspec": {
   "display_name": "django",
   "language": "python",
   "name": "django"
  },
  "language_info": {
   "codemirror_mode": {
    "name": "ipython",
    "version": 3
   },
   "file_extension": ".py",
   "mimetype": "text/x-python",
   "name": "python",
   "nbconvert_exporter": "python",
   "pygments_lexer": "ipython3",
   "version": "3.10.9"
  }
 },
 "nbformat": 4,
 "nbformat_minor": 5
}
